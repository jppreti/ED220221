{
  "nbformat": 4,
  "nbformat_minor": 0,
  "metadata": {
    "colab": {
      "name": "Prova1.ipynb",
      "provenance": [],
      "authorship_tag": "ABX9TyMy3/vNpdXE/RFfE2FwiXw+",
      "include_colab_link": true
    },
    "kernelspec": {
      "name": "python3",
      "display_name": "Python 3"
    },
    "language_info": {
      "name": "python"
    }
  },
  "cells": [
    {
      "cell_type": "markdown",
      "metadata": {
        "id": "view-in-github",
        "colab_type": "text"
      },
      "source": [
        "<a href=\"https://colab.research.google.com/github/jppreti/ED220221/blob/main/Prova1.ipynb\" target=\"_parent\"><img src=\"https://colab.research.google.com/assets/colab-badge.svg\" alt=\"Open In Colab\"/></a>"
      ]
    },
    {
      "cell_type": "markdown",
      "source": [
        "Cada questão vale 2 pontos. Ao término da prova enviar a solução das questões para:\n",
        "\n",
        "e-mail: preti.joao@ifmt.edu.br\n",
        "\n",
        "Assunto: Prova de LP\n",
        "\n",
        "Mensagem: Nome completo do(a) estudante."
      ],
      "metadata": {
        "id": "rUTt56RB1tIL"
      }
    },
    {
      "cell_type": "markdown",
      "source": [
        "**QUESTÃO 1**\n",
        "Faça um programa que peça o tamanho de um arquivo para download (em MB) e a velocidade de um link de Internet (em Mbps), calcule e informe o tempo aproximado de download do arquivo usando este link (em minutos)."
      ],
      "metadata": {
        "id": "DgODERiL2PYX"
      }
    },
    {
      "cell_type": "code",
      "execution_count": null,
      "metadata": {
        "id": "L8ixfBw21p5-"
      },
      "outputs": [],
      "source": [
        ""
      ]
    },
    {
      "cell_type": "markdown",
      "source": [
        "**QUESTÃO 2** \n",
        "Crie um programa que receba um número, conte o número total de dígitos e mostre o resultado.\n",
        "Por exemplo, se o número é 2021 , então a saída deve ser 4"
      ],
      "metadata": {
        "id": "sIzuNMQq3Ywt"
      }
    },
    {
      "cell_type": "code",
      "source": [
        ""
      ],
      "metadata": {
        "id": "jzQTTnuC4H2H"
      },
      "execution_count": null,
      "outputs": []
    },
    {
      "cell_type": "markdown",
      "source": [
        "**QUESTÃO 3** \n",
        "Faça um programa que leia um nome de usuário e a sua senha e não aceite a senha igual ao nome do usuário e nem senha menor do que 5 caracteres, mostrando uma mensagem de erro adequada e voltando a pedir as informações."
      ],
      "metadata": {
        "id": "FdIj3VgV4IX5"
      }
    },
    {
      "cell_type": "code",
      "source": [
        ""
      ],
      "metadata": {
        "id": "LfrR9CC-4VqR"
      },
      "execution_count": null,
      "outputs": []
    },
    {
      "cell_type": "markdown",
      "source": [
        "**QUESTÃO 4**\n",
        "Faça uma função que calcule o fatorial de um número inteiro fornecido pelo usuário. Ex.: 5!=5.4.3.2.1=120"
      ],
      "metadata": {
        "id": "aPIq5ctN4b_d"
      }
    },
    {
      "cell_type": "code",
      "source": [
        "\n",
        "print(fat(5))"
      ],
      "metadata": {
        "id": "WGYT7c_C5MjF"
      },
      "execution_count": null,
      "outputs": []
    },
    {
      "cell_type": "markdown",
      "source": [
        "**QUESTÃO 5**\n",
        "Faça um programa que leia um número e informe se ele é par ou ímpar."
      ],
      "metadata": {
        "id": "q6Kwboxf69YU"
      }
    },
    {
      "cell_type": "code",
      "source": [
        ""
      ],
      "metadata": {
        "id": "CvBtqhaA66bS"
      },
      "execution_count": null,
      "outputs": []
    }
  ]
}